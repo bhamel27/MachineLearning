{
 "metadata": {
  "name": ""
 },
 "nbformat": 3,
 "nbformat_minor": 0,
 "worksheets": [
  {
   "cells": [
    {
     "cell_type": "heading",
     "level": 1,
     "metadata": {},
     "source": [
      "Impl\u00e9mentation du r\u00e9seau de neurones"
     ]
    },
    {
     "cell_type": "code",
     "collapsed": false,
     "input": [
      "%pylab inline\n",
      "import numpy as np\n",
      "import gzip, pickle, time"
     ],
     "language": "python",
     "metadata": {},
     "outputs": [
      {
       "output_type": "stream",
       "stream": "stdout",
       "text": [
        "Populating the interactive namespace from numpy and matplotlib\n"
       ]
      }
     ],
     "prompt_number": 109
    },
    {
     "cell_type": "heading",
     "level": 2,
     "metadata": {},
     "source": [
      "D\u00e9finition de la classe repr\u00e9sentant le r\u00e9seau de neurones"
     ]
    },
    {
     "cell_type": "code",
     "collapsed": false,
     "input": [
      "class neural_network:\n",
      "    \n",
      "    def __init__(self, d, dh, m, decay_rate, K, n_epoques, learning_rate, gradient_method):\n",
      "        self.d = d\n",
      "        self.dh = dh\n",
      "        self.m = m\n",
      "        self.decay_rate = decay_rate\n",
      "        self.K = K\n",
      "        self.n_epoques = n_epoques\n",
      "        self.learning_rate = learning_rate\n",
      "        self.gradient_method = gradient_method\n",
      "\n",
      "        nc1 = 1 / np.sqrt(d)\n",
      "        self.W1 = np.asarray(np.random.uniform(-nc1, nc1, (dh, d)))\n",
      "        self.b1 = np.zeros(dh)\n",
      "\n",
      "        nc2 = 1 / np.sqrt(dh)\n",
      "        self.W2 = np.asarray(np.random.uniform(-nc2, nc2, (m, dh)))\n",
      "        self.b2 = np.zeros(m)\n",
      "        \n",
      "    def train(self, train_data, valid_data, test_data, affichage):\n",
      "        self.train_data = train_data\n",
      "        self.valid_data = valid_data\n",
      "        self.test_data = test_data\n",
      "        self.affichage = affichage\n",
      "        self.n = train_data.shape[0]\n",
      "        descente(self)\n",
      "\n",
      "    def compute_predictions(self, test_data):\n",
      "        n_test = test_data.shape[0]\n",
      "        results = np.zeros((n_test,self.m))\n",
      "        for (i,ex) in enumerate(test_data):\n",
      "            output = fprop(self, ex)\n",
      "            os = output[3]\n",
      "            results[i,:] = np.transpose(os)\n",
      "        return results"
     ],
     "language": "python",
     "metadata": {},
     "outputs": [],
     "prompt_number": 110
    },
    {
     "cell_type": "heading",
     "level": 3,
     "metadata": {},
     "source": [
      "D\u00e9finitions de fonctions utilis\u00e9es par le r\u00e9seau de neurones"
     ]
    },
    {
     "cell_type": "code",
     "collapsed": false,
     "input": [
      "def descente(nnet):\n",
      "    index = 0\n",
      "    epoque = 1\n",
      "    if nnet.affichage:\n",
      "        np.savetxt('train_out.txt', np.array([]), delimiter=',')\n",
      "    while epoque < nnet.n_epoques + 1:\n",
      "        grad_W1 = np.zeros((nnet.dh, nnet.d))\n",
      "        grad_b1 = np.zeros(nnet.dh)\n",
      "        grad_W2 = np.zeros((nnet.m, nnet.dh))\n",
      "        grad_b2 = np.zeros(nnet.m)\n",
      "        \n",
      "        if(nnet.K == 1):\n",
      "            minibatch = np.array([nnet.train_data[index]])\n",
      "        elif(nnet.K == nnet.n):\n",
      "            minibatch = nnet.train_data\n",
      "        else:\n",
      "            minibatch = np.zeros((nnet.K, nnet.d + 1))\n",
      "            for i in range(nnet.K):\n",
      "                j = (index + i) % nnet.n\n",
      "                minibatch[i] = nnet.train_data[j]\n",
      "            \n",
      "        for ex in minibatch:\n",
      "            grad_theta = nnet.gradient_method(nnet, ex[:-1], ex[-1])\n",
      "            grad_W1 += grad_theta[0]\n",
      "            grad_b1 += grad_theta[1]\n",
      "            grad_W2 += grad_theta[2]\n",
      "            grad_b2 += grad_theta[3]\n",
      "            \n",
      "        grad_W1 = grad_W1/nnet.K + nnet.decay_rate * nnet.W1\n",
      "        grad_b1 /= nnet.K\n",
      "        grad_W2 = grad_W2/nnet.K + nnet.decay_rate * nnet.W2\n",
      "        grad_b2 /= nnet.K\n",
      "        nnet.W1 -= nnet.learning_rate * grad_W1\n",
      "        nnet.b1 -= nnet.learning_rate * grad_b1\n",
      "        nnet.W2 -= nnet.learning_rate * grad_W2\n",
      "        nnet.b2 -= nnet.learning_rate * grad_b2\n",
      "        index += nnet.K\n",
      "        if index >= nnet.n:\n",
      "            if nnet.affichage:\n",
      "                print \"\u00c9poque :\",epoque,\"\\n\"\n",
      "                calcul_score(nnet)\n",
      "            index = index % nnet.n\n",
      "            epoque += 1"
     ],
     "language": "python",
     "metadata": {},
     "outputs": [],
     "prompt_number": 111
    },
    {
     "cell_type": "code",
     "collapsed": false,
     "input": [
      "def softmax(x):\n",
      "    e = np.exp(x)\n",
      "    sum_e = np.sum(e, axis=0)\n",
      "    sm = e / sum_e\n",
      "    return sm"
     ],
     "language": "python",
     "metadata": {},
     "outputs": [],
     "prompt_number": 112
    },
    {
     "cell_type": "code",
     "collapsed": false,
     "input": [
      "def fprop(nnet, x):\n",
      "    ha = np.dot(nnet.W1, x) + nnet.b1\n",
      "    hs = np.tanh(ha)\n",
      "    oa = np.dot(nnet.W2, hs) + nnet.b2\n",
      "    os = softmax(oa)\n",
      "    fpropData = [ha, hs, oa, os]\n",
      "    return fpropData"
     ],
     "language": "python",
     "metadata": {},
     "outputs": [],
     "prompt_number": 113
    },
    {
     "cell_type": "code",
     "collapsed": false,
     "input": [
      "def bprop(nnet, x, y, fpropData):\n",
      "    ha = fpropData[0]\n",
      "    hs = fpropData[1]\n",
      "    oa = fpropData[2]\n",
      "    os = fpropData[3]\n",
      "    grad_oa = os\n",
      "    grad_oa[y] = grad_oa[y] - 1\n",
      "    grad_W2 = np.outer(grad_oa, hs)\n",
      "    grad_b2 = grad_oa\n",
      "    grad_hs = np.dot(np.transpose(nnet.W2), grad_oa)\n",
      "    grad_ha = grad_hs * (np.ones(ha.shape[0]) - np.tanh(ha) ** 2)\n",
      "    grad_W1 = np.outer(grad_ha, x)\n",
      "    grad_b1 = grad_ha\n",
      "    grad = [grad_W1, grad_b1, grad_W2, grad_b2]\n",
      "    return grad"
     ],
     "language": "python",
     "metadata": {},
     "outputs": [],
     "prompt_number": 114
    },
    {
     "cell_type": "code",
     "collapsed": false,
     "input": [
      "def retropropagation(nnet, x, y):\n",
      "    fpropData = fprop(nnet, x)\n",
      "    return bprop(nnet, x, y, fpropData)"
     ],
     "language": "python",
     "metadata": {},
     "outputs": [],
     "prompt_number": 115
    },
    {
     "cell_type": "code",
     "collapsed": false,
     "input": [
      "def perte(nnet, x, y):\n",
      "    fpropData = fprop(nnet, x)\n",
      "    return -np.log(fpropData[3])[y]"
     ],
     "language": "python",
     "metadata": {},
     "outputs": [],
     "prompt_number": 116
    },
    {
     "cell_type": "code",
     "collapsed": false,
     "input": [
      "#Fonction claculant le gradient par la m\u00e9thodes des diff\u00e9rences finies\n",
      "def differences_finies(nnet, x, y):\n",
      "    epsilon = 10**-5\n",
      "    \n",
      "    perte1 = perte(nnet, x, y)\n",
      "    \n",
      "    grad_W1 = np.zeros((nnet.W1.shape[0], nnet.W1.shape[1]))\n",
      "    grad_b1 = np.zeros(nnet.b1.shape[0])\n",
      "    grad_W2 = np.zeros((nnet.W2.shape[0], nnet.W2.shape[1]))\n",
      "    grad_b2 = np.zeros(nnet.b2.shape[0])\n",
      "    \n",
      "    \n",
      "    for i in range(nnet.W1.shape[0]):\n",
      "        for j in range(nnet.W1.shape[1]):\n",
      "            nnet.W1[i,j] += epsilon\n",
      "            perte2 = perte(nnet, x, y)\n",
      "            grad_W1[i,j] = (perte2 - perte1)/epsilon\n",
      "            nnet.W1[i,j] -= epsilon\n",
      "            \n",
      "    for i in range(nnet.b1.shape[0]):\n",
      "            nnet.b1[i] += epsilon\n",
      "            perte2 = perte(nnet, x, y)\n",
      "            grad_b1[i] = (perte2 - perte1)/epsilon\n",
      "            nnet.b1[i] -= epsilon\n",
      "            \n",
      "    for i in range(nnet.W2.shape[0]):\n",
      "        for j in range(nnet.W2.shape[1]):\n",
      "            nnet.W2[i,j] += epsilon\n",
      "            perte2 = perte(nnet, x, y)\n",
      "            grad_W2[i,j] = (perte2 - perte1)/epsilon\n",
      "            nnet.W2[i,j] -= epsilon\n",
      "            \n",
      "    for i in range(nnet.b2.shape[0]):\n",
      "            nnet.b2[i] += epsilon\n",
      "            perte2 = perte(nnet, x, y)\n",
      "            grad_b2[i] = (perte2 - perte1)/epsilon\n",
      "            nnet.b2[i] -= epsilon\n",
      "            \n",
      "    grad = [grad_W1, grad_b1, grad_W2, grad_b2]\n",
      "    return grad"
     ],
     "language": "python",
     "metadata": {},
     "outputs": [],
     "prompt_number": 117
    },
    {
     "cell_type": "heading",
     "level": 2,
     "metadata": {},
     "source": [
      "V\u00e9rification du calcul du gradient par diff\u00e9rences finies sur K exemples"
     ]
    },
    {
     "cell_type": "code",
     "collapsed": false,
     "input": [
      "data = np.loadtxt(\"2moons.txt\")\n",
      "#On fait le test sur K exemples au hasard de 2moons.txt\n",
      "\n",
      "K = 10\n",
      "n_train = K\n",
      "\n",
      "#choisir des exemples diff\u00e9rents \u00e0 chaque ex\u00e9cution du test\n",
      "np.random.seed()\n",
      "inds = range(data.shape[0])\n",
      "random.shuffle(inds)\n",
      "train_inds = inds[:n_train]\n",
      "train_set = data[train_inds,:]\n",
      "\n",
      "#On utilise ici les valeurs propos\u00e9es au #4 (d = 2, dh = 2)\n",
      "d = 2\n",
      "dh = 2\n",
      "m = 2\n",
      "decay_rate = 0\n",
      "n_epoques = 1\n",
      "learning_rate = 1\n",
      "\n",
      "#Changer cette valeur pour sauvegarder les courbes d'apprentissage dans un fichier et les afficher\n",
      "affichage = False\n",
      "\n",
      "#On initialise deux mod\u00e8les,\n",
      "#Le premier clacule le gradient avec la m\u00e9thode par diff\u00e9rences finies\n",
      "np.random.seed(3395)\n",
      "model_differences_finies = neural_network(d, dh, m, decay_rate, K, n_epoques, learning_rate, differences_finies)\n",
      "\n",
      "\n",
      "#Le deuxim\u00e8e calcule le gradient avec la m\u00e9thode par r\u00e9tropropagation\n",
      "np.random.seed(3395) #pour avoir les m\u00eame initialisation des param\u00e8tres que le mod\u00e8le pr\u00e9c\u00e9dent\n",
      "model_retropropagation = neural_network(d, dh, m, decay_rate, K, n_epoques, learning_rate, retropropagation)"
     ],
     "language": "python",
     "metadata": {},
     "outputs": [],
     "prompt_number": 118
    },
    {
     "cell_type": "code",
     "collapsed": false,
     "input": [
      "model_differences_finies.train(train_set, None, None, affichage)\n",
      "model_retropropagation.train(train_set, None, None, affichage)"
     ],
     "language": "python",
     "metadata": {},
     "outputs": [],
     "prompt_number": 119
    },
    {
     "cell_type": "code",
     "collapsed": false,
     "input": [
      "#On concat\u00e8ne les param\u00e8tres de chaque mod\u00e8le sous forme d'un seul long vecteur pour pouvoir les comparer.\n",
      "gradient1 = np.concatenate((model_differences_finies.W1.flatten(),\n",
      "                            model_differences_finies.b1,\n",
      "                            model_differences_finies.W2.flatten(),\n",
      "                            model_differences_finies.b2))\n",
      "gradient2 = np.concatenate((model_retropropagation.W1.flatten(),\n",
      "                            model_retropropagation.b1,\n",
      "                            model_retropropagation.W2.flatten(),\n",
      "                            model_retropropagation.b2))"
     ],
     "language": "python",
     "metadata": {},
     "outputs": [],
     "prompt_number": 120
    },
    {
     "cell_type": "code",
     "collapsed": false,
     "input": [
      "gradient1"
     ],
     "language": "python",
     "metadata": {},
     "outputs": [
      {
       "metadata": {},
       "output_type": "pyout",
       "prompt_number": 121,
       "text": [
        "array([ 0.06111887, -0.37580336, -0.34853831,  0.56749205, -0.0360608 ,\n",
        "        0.00826067,  0.49825547,  0.00316495,  0.04358597,  0.37435212,\n",
        "       -0.09339767,  0.09339521])"
       ]
      }
     ],
     "prompt_number": 121
    },
    {
     "cell_type": "code",
     "collapsed": false,
     "input": [
      "gradient2"
     ],
     "language": "python",
     "metadata": {},
     "outputs": [
      {
       "metadata": {},
       "output_type": "pyout",
       "prompt_number": 122,
       "text": [
        "array([ 0.06111914, -0.37580262, -0.34853814,  0.56749218, -0.03606065,\n",
        "        0.00826071,  0.49825562,  0.00316541,  0.04358613,  0.37435259,\n",
        "       -0.09339644,  0.09339644])"
       ]
      }
     ],
     "prompt_number": 122
    },
    {
     "cell_type": "code",
     "collapsed": false,
     "input": [
      "ratio = gradient1/gradient2\n",
      "ratio"
     ],
     "language": "python",
     "metadata": {},
     "outputs": [
      {
       "metadata": {},
       "output_type": "pyout",
       "prompt_number": 123,
       "text": [
        "array([ 0.9999956 ,  1.00000197,  1.00000048,  0.99999977,  1.00000424,\n",
        "        0.99999512,  0.99999968,  0.99985255,  0.99999638,  0.99999875,\n",
        "        1.00001319,  0.99998681])"
       ]
      }
     ],
     "prompt_number": 123
    },
    {
     "cell_type": "code",
     "collapsed": false,
     "input": [
      "all(all(ratio > 0.99) and all(ratio < 1.01))"
     ],
     "language": "python",
     "metadata": {},
     "outputs": [
      {
       "metadata": {},
       "output_type": "pyout",
       "prompt_number": 124,
       "text": [
        "True"
       ]
      }
     ],
     "prompt_number": 124
    },
    {
     "cell_type": "markdown",
     "metadata": {},
     "source": [
      "<b>Toutes les valeurs de ratio entre le gradient calcul\u00e9 par diff\u00e9rences finies et celui calcul\u00e9 par r\u00e9tropropagation du gradient sont entre 0.99 et 1.01. Le calcul par r\u00e9tropropagation est donc valide.</b>"
     ]
    },
    {
     "cell_type": "heading",
     "level": 3,
     "metadata": {},
     "source": [
      "Utilitaires"
     ]
    },
    {
     "cell_type": "code",
     "collapsed": false,
     "input": [
      "# fonction plot\n",
      "def gridplot(classifieur,train,test,n_points=50):\n",
      "\n",
      "    train_test = np.vstack((train,test))\n",
      "    (min_x1,max_x1) = (min(train_test[:,0]),max(train_test[:,0]))\n",
      "    (min_x2,max_x2) = (min(train_test[:,1]),max(train_test[:,1]))\n",
      "\n",
      "    xgrid = np.linspace(min_x1,max_x1,num=n_points)\n",
      "    ygrid = np.linspace(min_x2,max_x2,num=n_points)\n",
      "\n",
      "\t# calcule le produit cartesien entre deux listes\n",
      "    # et met les resultats dans un array\n",
      "    thegrid = np.array(combine(xgrid,ygrid))\n",
      "\n",
      "    les_sorties = classifieur.compute_predictions(thegrid)\n",
      "\n",
      "    # notez que ici on ne fait pas de argmax!\n",
      "    classesPred = np.argmax(les_sorties,axis=1)\n",
      "\n",
      "    # La grille\n",
      "    # Pour que la grille soit plus jolie\n",
      "    props = dict( alpha=0.3, edgecolors='none' )\n",
      "    pylab.scatter(thegrid[:,0],thegrid[:,1],c = classesPred, s=50)\n",
      "    # Les points d'entrainment\n",
      "    pylab.scatter(train[:,0], train[:,1], c = train[:,-1], marker = 'v', s=50)\n",
      "    # Les points de test\n",
      "    pylab.scatter(test[:,0], test[:,1], c = test[:,-1], marker = 's', s=50)\n",
      "\n",
      "    ## Un petit hack, parce que la fonctionalite manque a pylab...\n",
      "    h1, = pylab.plot([min_x1], [min_x2], marker='o', c = 'w',ms=5) \n",
      "    h2, = pylab.plot([min_x1], [min_x2], marker='v', c = 'w',ms=5) \n",
      "    h3, = pylab.plot([min_x1], [min_x2], marker='s', c = 'w',ms=5) \n",
      "    handles = [h1,h2,h3]\n",
      "    ## fin du hack\n",
      "\n",
      "    labels = ['grille','train','test']\n",
      "    pylab.legend(handles,labels)\n",
      "\n",
      "    pylab.axis('equal')\n",
      "    pylab.show()\n",
      "\n",
      "## http://code.activestate.com/recipes/302478/\n",
      "def combine(*seqin):\n",
      "    '''returns a list of all combinations of argument sequences.\n",
      "for example: combine((1,2),(3,4)) returns\n",
      "[[1, 3], [1, 4], [2, 3], [2, 4]]'''\n",
      "    def rloop(seqin,listout,comb):\n",
      "        '''recursive looping function'''\n",
      "        if seqin:                       # any more sequences to process?\n",
      "            for item in seqin[0]:\n",
      "                newcomb=comb+[item]     # add next item to current comb\n",
      "                # call rloop w/ rem seqs, newcomb\n",
      "                rloop(seqin[1:],listout,newcomb)\n",
      "        else:                           # processing last sequence\n",
      "            listout.append(comb)        # comb finished, add to list\n",
      "    listout=[]                      # listout initialization\n",
      "    rloop(seqin,listout,[])         # start recursive process\n",
      "    return listout"
     ],
     "language": "python",
     "metadata": {},
     "outputs": [],
     "prompt_number": 125
    },
    {
     "cell_type": "heading",
     "level": 2,
     "metadata": {},
     "source": [
      "5. Entra\u00eenement sur l'ensemble de donn\u00e9es des deux lunes"
     ]
    },
    {
     "cell_type": "heading",
     "level": 3,
     "metadata": {},
     "source": [
      "Hyper-param\u00e8tres"
     ]
    },
    {
     "cell_type": "code",
     "collapsed": false,
     "input": [
      "dh = 60\n",
      "learning_rate = 0.3\n",
      "n_epoques = 200\n",
      "decay_rate = 0\n",
      "K = 70"
     ],
     "language": "python",
     "metadata": {},
     "outputs": [],
     "prompt_number": 126
    },
    {
     "cell_type": "heading",
     "level": 3,
     "metadata": {},
     "source": [
      "Initialisation et affichage des r\u00e9sultats"
     ]
    },
    {
     "cell_type": "code",
     "collapsed": false,
     "input": [
      "# L'indice de la colonne contenant les etiquettes\n",
      "target_ind = [data.shape[1] - 1]\n",
      "\n",
      "m = 2\n",
      "d = 2\n",
      "\n",
      "# Nombre de points d'entrainement\n",
      "n_train = int(0.6 * data.shape[0])\n",
      "\n",
      "print \"On va entrainer sur \", n_train, \" exemples d'entrainement\"\n",
      "\n",
      "np.random.seed(3395)\n",
      "\n",
      "# D\u00e9terminer au hasard des indices pour les exemples d'entrainement et de test\n",
      "inds = range(data.shape[0])\n",
      "random.shuffle(inds)\n",
      "train_inds = inds[:n_train]\n",
      "test_inds = inds[n_train:]\n",
      "\n",
      "# separer les donnees dans les deux ensembles\n",
      "train_set = data[train_inds,:]\n",
      "test_set = data[test_inds,:]\n",
      "\n",
      "# separarer l'ensemble de test dans les entrees et les etiquettes\n",
      "test_inputs = test_set[:,:-1]\n",
      "test_labels = test_set[:,-1].astype(int)\n",
      "\n",
      "model = neural_network(d, dh, m, decay_rate, K, n_epoques, learning_rate, retropropagation)\n",
      "model.train(train_set, None, None, affichage)\n",
      "\n",
      "les_sorties = model.compute_predictions(test_inputs)\n",
      "classes_pred = np.argmax(les_sorties,axis=1)\n",
      "\n",
      "# Faire les tests\n",
      "err = 1.0 - np.mean(test_labels==classes_pred)\n",
      "print \"L'erreur de test est de \", 100.0 * err,\"%\\n\""
     ],
     "language": "python",
     "metadata": {},
     "outputs": [
      {
       "output_type": "stream",
       "stream": "stdout",
       "text": [
        "On va entrainer sur  660  exemples d'entrainement\n",
        "L'erreur de test est de "
       ]
      },
      {
       "output_type": "stream",
       "stream": "stdout",
       "text": [
        " 0.454545454545 %\n",
        "\n"
       ]
      }
     ],
     "prompt_number": 127
    },
    {
     "cell_type": "code",
     "collapsed": false,
     "input": [
      "# Surface de decision\n",
      "# Taille de la grille = grid_size x grid_size\n",
      "grid_size = 50\n",
      "gridplot(model,train_set,test_set,grid_size)"
     ],
     "language": "python",
     "metadata": {},
     "outputs": [
      {
       "metadata": {},
       "output_type": "display_data",
       "png": "[encoded data removed]",
       "text": [
        "<matplotlib.figure.Figure at 0x104a29e50>"
       ]
      }
     ],
     "prompt_number": 128
    },
    {
     "cell_type": "markdown",
     "metadata": {},
     "source": [
      "<b>Ici, on utilise 60% de l'ensemble de donn\u00e9es comme ensemble d'entra\u00eenement et le 40% restant comme ensemble de test. Un decay_rate > 0 semble significativement faire augmenter le taux d'erreur. La configuration actuelle des hyper-param\u00e8tres semble \u00eatre la meilleure avec 0.45% de taux d'erreur.</b>"
     ]
    },
    {
     "cell_type": "heading",
     "level": 2,
     "metadata": {},
     "source": [
      "Impl\u00e9mentation de la version modifi\u00e9e efficace"
     ]
    },
    {
     "cell_type": "code",
     "collapsed": false,
     "input": [
      "def softmax2(oa):\n",
      "    e = np.exp(oa)\n",
      "    sum_e = np.sum(e, axis=1)\n",
      "    sm = e / sum_e[:, np.newaxis]\n",
      "    return sm"
     ],
     "language": "python",
     "metadata": {},
     "outputs": [],
     "prompt_number": 129
    },
    {
     "cell_type": "code",
     "collapsed": false,
     "input": [
      "def fprop2(nnet, minibatch):\n",
      "    ha = (np.dot(nnet.W1, minibatch.transpose())).transpose() + nnet.b1\n",
      "    hs = np.tanh(ha)\n",
      "    oa = (np.dot(nnet.W2, hs.transpose())).transpose() + nnet.b2\n",
      "    os = softmax2(oa)\n",
      "    fpropData = [ha, hs, oa, os]\n",
      "    return fpropData"
     ],
     "language": "python",
     "metadata": {},
     "outputs": [],
     "prompt_number": 130
    },
    {
     "cell_type": "code",
     "collapsed": false,
     "input": [
      "def bprop2(nnet, minibatch, cibles, fpropData):\n",
      "    ha = fpropData[0]\n",
      "    hs = fpropData[1]\n",
      "    oa = fpropData[2]\n",
      "    os = fpropData[3]\n",
      "    grad_oa = os\n",
      "    grad_oa[np.arange(K), cibles] = grad_oa[np.arange(K), cibles]-1\n",
      "    grad_W2 = np.dot(grad_oa.transpose(), hs)\n",
      "    grad_b2 = sum(grad_oa, axis=0)\n",
      "    grad_hs = np.dot(grad_oa, nnet.W2)\n",
      "    grad_ha = grad_hs * (np.ones((ha.shape[0], ha.shape[1])) - np.tanh(ha) ** 2)\n",
      "    grad_W1 = np.dot(grad_ha.transpose(), minibatch)\n",
      "    grad_b1 = sum(grad_ha, axis=0)\n",
      "    grad = [grad_W1, grad_b1, grad_W2, grad_b2]\n",
      "    return grad"
     ],
     "language": "python",
     "metadata": {},
     "outputs": [],
     "prompt_number": 131
    },
    {
     "cell_type": "code",
     "collapsed": false,
     "input": [
      "def retropropagation2(nnet, minibatch, cibles):\n",
      "    fpropData = fprop2(nnet, minibatch)\n",
      "    return bprop2(nnet, minibatch, cibles, fpropData)"
     ],
     "language": "python",
     "metadata": {},
     "outputs": [],
     "prompt_number": 132
    },
    {
     "cell_type": "code",
     "collapsed": false,
     "input": [
      "def perte2(nnet, minibatch, cibles):\n",
      "    fpropData = fprop2(nnet, minibatch)\n",
      "    os = fpropData[3]\n",
      "    os_y = np.zeros(os.shape[0])\n",
      "    for i in range(os.shape[0]):\n",
      "        os_y[i] = os[i,cibles[i]]\n",
      "    return -np.log(os_y)"
     ],
     "language": "python",
     "metadata": {},
     "outputs": [],
     "prompt_number": 133
    },
    {
     "cell_type": "code",
     "collapsed": false,
     "input": [
      "class neural_network2:\n",
      "    \n",
      "    def __init__(self, d, dh, m, decay_rate, K, n_epoques, learning_rate):\n",
      "        self.d = d\n",
      "        self.dh = dh\n",
      "        self.m = m\n",
      "        self.decay_rate = decay_rate\n",
      "        self.K = K\n",
      "        self.n_epoques = n_epoques\n",
      "        self.learning_rate = learning_rate\n",
      "        self.affichage = affichage\n",
      "\n",
      "        nc1 = 1 / np.sqrt(d)\n",
      "        self.W1 = np.asarray(np.random.uniform(-nc1, nc1, (dh, d)))\n",
      "        self.b1 = np.zeros(dh)\n",
      "\n",
      "        nc2 = 1 / np.sqrt(dh)\n",
      "        self.W2 = np.asarray(np.random.uniform(-nc2, nc2, (m, dh)))\n",
      "        self.b2 = np.zeros(m)\n",
      "        \n",
      "    def train(self,train_data, valid_data, test_data, affichage):\n",
      "        self.train_data = train_data\n",
      "        self.valid_data = valid_data\n",
      "        self.test_data = test_data\n",
      "        self.affichage = affichage\n",
      "        self.n = train_data.shape[0]\n",
      "        descente2(self)\n",
      "\n",
      "    def compute_predictions(self, test_data):\n",
      "        results = fprop2(self, test_data)[3]\n",
      "        return results"
     ],
     "language": "python",
     "metadata": {},
     "outputs": [],
     "prompt_number": 134
    },
    {
     "cell_type": "code",
     "collapsed": false,
     "input": [
      "def descente2(nnet):\n",
      "    index = 0\n",
      "    epoque = 1\n",
      "    if nnet.affichage:\n",
      "        np.savetxt('train_out.txt', np.array([]), delimiter=',')\n",
      "    while epoque < nnet.n_epoques + 1:\n",
      "        grad_W1 = np.zeros((nnet.dh, nnet.d))\n",
      "        grad_b1 = np.zeros(nnet.dh)\n",
      "        grad_W2 = np.zeros((nnet.m, nnet.dh))\n",
      "        grad_b2 = np.zeros(nnet.m)\n",
      "        \n",
      "        if(nnet.K == 1):\n",
      "            minibatch = np.array([nnet.train_data[index]])\n",
      "        elif(nnet.K == nnet.n):\n",
      "            minibatch = nnet.train_data\n",
      "        else:\n",
      "            minibatch = np.zeros((nnet.K, nnet.d + 1))\n",
      "            for i in range(nnet.K):\n",
      "                j = (index + i) % nnet.n\n",
      "                minibatch[i] = nnet.train_data[j]\n",
      "            \n",
      "        grad_theta = retropropagation2(nnet, minibatch[:,:-1], minibatch[:,-1].astype(int))\n",
      "        grad_W1 += grad_theta[0]\n",
      "        grad_b1 += grad_theta[1]\n",
      "        grad_W2 += grad_theta[2]\n",
      "        grad_b2 += grad_theta[3]\n",
      "            \n",
      "        grad_W1 = grad_W1/nnet.K + nnet.decay_rate * nnet.W1\n",
      "        grad_b1 /= nnet.K\n",
      "        grad_W2 = grad_W2/nnet.K + nnet.decay_rate * nnet.W2\n",
      "        grad_b2 /= nnet.K\n",
      "        nnet.W1 -= nnet.learning_rate * grad_W1\n",
      "        nnet.b1 -= nnet.learning_rate * grad_b1\n",
      "        nnet.W2 -= nnet.learning_rate * grad_W2\n",
      "        nnet.b2 -= nnet.learning_rate * grad_b2\n",
      "        index += nnet.K\n",
      "        if index >= nnet.n:\n",
      "            if nnet.affichage:\n",
      "                print \"\u00c9poque\",epoque,\":\\n\"\n",
      "                calcul_score(nnet)\n",
      "            index = index % nnet.n\n",
      "            epoque += 1"
     ],
     "language": "python",
     "metadata": {},
     "outputs": [],
     "prompt_number": 135
    },
    {
     "cell_type": "heading",
     "level": 2,
     "metadata": {},
     "source": [
      "Validation de la m\u00e9thode efficace, comparaisons avec l'impl\u00e9mentation avec boucle."
     ]
    },
    {
     "cell_type": "code",
     "collapsed": false,
     "input": [
      "#On fait le test sur K exemples au hasard de 2moons.txt\n",
      "\n",
      "K = 10\n",
      "n_train = K\n",
      "\n",
      "#choisir des exemples diff\u00e9rents \u00e0 chaque ex\u00e9cution du test\n",
      "np.random.seed()\n",
      "inds = range(data.shape[0])\n",
      "random.shuffle(inds)\n",
      "train_inds = inds[:n_train]\n",
      "train_set = data[train_inds,:]\n",
      "\n",
      "#On utilise ici des valeurs simples de test\n",
      "d = 2\n",
      "dh = 2\n",
      "m = 2\n",
      "decay_rate = 0\n",
      "n_epoques = 1\n",
      "learning_rate = 1\n",
      "\n",
      "#On initialise deux mod\u00e8les,\n",
      "#Le premier clacule le gradient avec la m\u00e9thode qui boucle sur les exemples\n",
      "np.random.seed(3395)\n",
      "model_boucle = neural_network(d, dh, m, decay_rate, K, n_epoques, learning_rate, retropropagation)\n",
      "\n",
      "#Le deuxim\u00e8e calcule le gradient avec la m\u00e9thode qui traite le mini-lot d'un seul coup\n",
      "np.random.seed(3395) #pour avoir les m\u00eame initialisation des param\u00e8tres que le mod\u00e8le pr\u00e9c\u00e9dent\n",
      "model_minibatch = neural_network2(d, dh, m, decay_rate, K, n_epoques, learning_rate)"
     ],
     "language": "python",
     "metadata": {},
     "outputs": [],
     "prompt_number": 136
    },
    {
     "cell_type": "code",
     "collapsed": false,
     "input": [
      "model_boucle.train(train_set, None, None, affichage)\n",
      "model_minibatch.train(train_set, None, None, affichage)"
     ],
     "language": "python",
     "metadata": {},
     "outputs": [],
     "prompt_number": 137
    },
    {
     "cell_type": "code",
     "collapsed": false,
     "input": [
      "#On concat\u00e8ne les param\u00e8tres de chaque mod\u00e8le sous forme d'un seul long vecteur pour pouvoir les comparer.\n",
      "gradient1 = np.concatenate((model_boucle.W1.flatten(),\n",
      "                            model_boucle.b1,\n",
      "                            model_boucle.W2.flatten(),\n",
      "                            model_boucle.b2))\n",
      "gradient2 = np.concatenate((model_minibatch.W1.flatten(),\n",
      "                            model_minibatch.b1,\n",
      "                            model_minibatch.W2.flatten(),\n",
      "                            model_minibatch.b2))"
     ],
     "language": "python",
     "metadata": {},
     "outputs": [],
     "prompt_number": 138
    },
    {
     "cell_type": "code",
     "collapsed": false,
     "input": [
      "print \"Test avec K =\",K,\"exemple(s) au hasard (diff\u00e9rent(s) \u00e0 chaque ex\u00e9cution)\"\n",
      "print \"Le gradient obtenu avec le mod\u00e8le utilisant l'impl\u00e9mentation avec boucle est:\"\n",
      "print gradient1,\"\\n\"\n",
      "print \"Le gradient obtenu avec le mod\u00e8le utilisant l'impl\u00e9mentation efficace est:\"\n",
      "print gradient2,\"\\n\"\n",
      "print \"Le ratio des gradients est:\", gradient1/gradient2"
     ],
     "language": "python",
     "metadata": {},
     "outputs": [
      {
       "output_type": "stream",
       "stream": "stdout",
       "text": [
        "Test avec K = 10 exemple(s) au hasard (diff\u00e9rent(s) \u00e0 chaque ex\u00e9cution)\n",
        "Le gradient obtenu avec le mod\u00e8le utilisant l'impl\u00e9mentation avec boucle est:\n",
        "[ 0.10461653 -0.40021232 -0.35649196  0.5752886  -0.0649719   0.02700489\n",
        "  0.50814645 -0.0499213   0.0336953   0.42743931 -0.13486756  0.13486756] \n",
        "\n",
        "Le gradient obtenu avec le mod\u00e8le utilisant l'impl\u00e9mentation efficace est:\n",
        "[ 0.10461653 -0.40021232 -0.35649196  0.5752886  -0.0649719   0.02700489\n",
        "  0.50814645 -0.0499213   0.0336953   0.42743931 -0.13486756  0.13486756] \n",
        "\n",
        "Le ratio des gradients est: [ 1.  1.  1.  1.  1.  1.  1.  1.  1.  1.  1.  1.]\n"
       ]
      }
     ],
     "prompt_number": 139
    },
    {
     "cell_type": "markdown",
     "metadata": {},
     "source": [
      "<b>Les ratios des gradients par rapport aux param\u00e8tres ont tous une valeur de 1. On peut donc confirmer que la m\u00e9thode efficace donne les m\u00eames r\u00e9sulats que le calcul avec une boucle.</b>"
     ]
    },
    {
     "cell_type": "heading",
     "level": 2,
     "metadata": {},
     "source": [
      "Temps de calcul sur MNIST"
     ]
    },
    {
     "cell_type": "code",
     "collapsed": false,
     "input": [
      "# Hyper-param\u00e8tres optimaux trouv\u00e9s \u00e0 la question 10\n",
      "# Sauf pour le nombre d'\u00e9poques (1), tel que demand\u00e9 dans l'\u00e9nonc\u00e9\n",
      "dh = 50\n",
      "learning_rate = 0.5\n",
      "n_epoques = 1\n",
      "decay_rate = 0\n",
      "K = 100"
     ],
     "language": "python",
     "metadata": {},
     "outputs": [],
     "prompt_number": 140
    },
    {
     "cell_type": "code",
     "collapsed": false,
     "input": [
      "# Charger MNIST\n",
      "file_mnist=gzip.open('mnist.pkl.gz')\n",
      "data=pickle.load(file_mnist)\n",
      "\n",
      "d = data[0][0].shape[1]\n",
      "m = 10\n",
      "n_train = 100\n",
      "\n",
      "#choisir des exemples diff\u00e9rents \u00e0 chaque ex\u00e9cution du test\n",
      "np.random.seed()\n",
      "inds = range(data[0][0].shape[0])\n",
      "random.shuffle(inds)\n",
      "train_inds = inds[:n_train]\n",
      "train_data = data[0][0][train_inds,:]\n",
      "train_labels = data[0][1][train_inds]\n",
      "train_set = np.column_stack((train_data, train_labels))\n",
      "\n",
      "#On initialise deux mod\u00e8les,\n",
      "#Le premier clacule le gradient avec la m\u00e9thode qui boucle sur les exemples\n",
      "np.random.seed(3395)\n",
      "model_boucle = neural_network(d, dh, m, decay_rate, K, n_epoques, learning_rate, retropropagation)\n",
      "\n",
      "#Le deuxim\u00e8e calcule le gradient avec la m\u00e9thode qui traite le mini-lot d'un seul coup\n",
      "np.random.seed(3395) #pour avoir les m\u00eame initialisation des param\u00e8tres que le mod\u00e8le pr\u00e9c\u00e9dent\n",
      "model_minibatch = neural_network2(d, dh, m, decay_rate, K, n_epoques, learning_rate)"
     ],
     "language": "python",
     "metadata": {},
     "outputs": [],
     "prompt_number": 141
    },
    {
     "cell_type": "code",
     "collapsed": false,
     "input": [
      "t1 = time.clock()\n",
      "model_boucle.train(train_set, None, None, affichage)\n",
      "t2 = time.clock()\n",
      "print \"\u00c7a nous a pris\", t2-t1,\"secondes pour entra\u00eener le r\u00e9seau sur un mini-batch de taille\", train_set.shape[0],\"avec boucle \\n\"\n",
      "\n",
      "t1 = time.clock()\n",
      "model_minibatch.train(train_set, None, None, affichage)\n",
      "t2 = time.clock()\n",
      "print \"\u00c7a nous a pris\", t2-t1, \"secondes pour entra\u00eener le r\u00e9seau sur un mini-batch de taille\", train_set.shape[0],\"avec calcul matriciel\""
     ],
     "language": "python",
     "metadata": {},
     "outputs": [
      {
       "output_type": "stream",
       "stream": "stdout",
       "text": [
        "\u00c7a nous a pris 0.04943 secondes pour entra\u00eener le r\u00e9seau sur un mini-batch de taille 100 avec boucle \n",
        "\n",
        "\u00c7a nous a pris 0.00950599999999 secondes pour entra\u00eener le r\u00e9seau sur un mini-batch de taille 100 avec calcul matriciel\n"
       ]
      }
     ],
     "prompt_number": 142
    },
    {
     "cell_type": "markdown",
     "metadata": {},
     "source": [
      "<b>On voit donc que la manipulation des mini-batch par calcul matriciel est plus efficace qu'une it\u00e9ration par boucle.</b>"
     ]
    },
    {
     "cell_type": "heading",
     "level": 2,
     "metadata": {},
     "source": [
      "Affichage des r\u00e9sultats et entra\u00eenement sur MNIST"
     ]
    },
    {
     "cell_type": "heading",
     "level": 3,
     "metadata": {},
     "source": [
      "Fonction d'affichage et d'enregistrement de l'erreur de classification et du co\u00fbt"
     ]
    },
    {
     "cell_type": "code",
     "collapsed": false,
     "input": [
      "def calcul_score(nnet):\n",
      "    # Ensemble d'entrainement\n",
      "    train_results = fprop2(nnet, nnet.train_data[:,:-1])[3]\n",
      "    train_classes_pred = np.argmax(train_results, axis=1)\n",
      "    train_err = 1.0 - np.mean(nnet.train_data[:,-1]==train_classes_pred)\n",
      "    train_perte = perte2(nnet, nnet.train_data[:,:-1], nnet.train_data[:,-1])\n",
      "    train_perte = np.sum(train_perte) / nnet.train_data.shape[0]\n",
      "    \n",
      "    # Ensemble de validation    \n",
      "    valid_results = fprop2(nnet, nnet.valid_data[:,:-1])[3]\n",
      "    valid_classes_pred = np.argmax(valid_results, axis=1)\n",
      "    valid_err = 1.0 - np.mean(nnet.valid_data[:,-1]==valid_classes_pred)\n",
      "    valid_perte = perte2(nnet, nnet.valid_data[:,:-1], nnet.valid_data[:,-1])\n",
      "    valid_perte =  np.sum(valid_perte) / nnet.valid_data.shape[0]\n",
      "    \n",
      "    # Ensemble de test\n",
      "    test_results = fprop2(nnet, nnet.test_data[:,:-1])[3]\n",
      "    test_classes_pred = np.argmax(test_results, axis=1)\n",
      "    test_err = 1.0 - np.mean(nnet.test_data[:,-1]==test_classes_pred)\n",
      "    test_perte = perte2(nnet, nnet.test_data[:,:-1], nnet.test_data[:,-1])\n",
      "    test_perte = np.sum(test_perte) / nnet.test_data.shape[0]\n",
      "    \n",
      "    print \"Ensemble d'entra\u00eenement\"\n",
      "    print \"   Erreur :\", 100.0 * train_err,\"%\"\n",
      "    print \"   Co\u00fbt moyen :\",train_perte\n",
      "    print \"Ensemble de validation\"\n",
      "    print \"   Erreur :\", 100.0 * valid_err,\"%\"\n",
      "    print \"   Co\u00fbt moyen :\",valid_perte\n",
      "    print \"Ensemble de test\"\n",
      "    print \"   Erreur :\", 100.0 * test_err,\"%\"\n",
      "    print \"   Co\u00fbt moyen :\",test_perte,\"\\n\"\n",
      "    \n",
      "    # Enregistrement dans train_out.txt\n",
      "    scores = np.array([train_err, train_perte, valid_err, valid_perte, test_err, test_perte])\n",
      "    if np.fromfile(\"train_out.txt\") != np.array([]):\n",
      "        scores_enr = np.loadtxt(\"train_out.txt\")\n",
      "        scores = np.row_stack((scores_enr, scores))\n",
      "    np.savetxt(\"train_out.txt\", scores, delimiter=\" \")"
     ],
     "language": "python",
     "metadata": {},
     "outputs": [],
     "prompt_number": 143
    },
    {
     "cell_type": "heading",
     "level": 3,
     "metadata": {},
     "source": [
      "Hyper-param\u00e8tres"
     ]
    },
    {
     "cell_type": "code",
     "collapsed": false,
     "input": [
      "dh = 50\n",
      "learning_rate = 0.5\n",
      "n_epoques = 10\n",
      "decay_rate = 0\n",
      "K = 100"
     ],
     "language": "python",
     "metadata": {},
     "outputs": [],
     "prompt_number": 179
    },
    {
     "cell_type": "heading",
     "level": 3,
     "metadata": {},
     "source": [
      "Initialisation"
     ]
    },
    {
     "cell_type": "code",
     "collapsed": false,
     "input": [
      "# Pour sauvegarder et afficher les courbes d'apprentissage\n",
      "affichage = True\n",
      "\n",
      "np.random.seed(3395)\n",
      "\n",
      "# Ensemble d'entrainement\n",
      "train_data = data[0][0]\n",
      "train_labels = data[0][1]\n",
      "train_set = np.column_stack((train_data, train_labels))\n",
      "\n",
      "# Ensemble de validation\n",
      "valid_data = data[1][0]\n",
      "valid_labels = data[1][1]\n",
      "valid_set = np.column_stack((valid_data, valid_labels))\n",
      "\n",
      "# Ensemble de test\n",
      "test_data = data[2][0]\n",
      "test_labels = data[2][1]\n",
      "test_set = np.column_stack((test_data, test_labels))\n",
      "\n",
      "# initialisation\n",
      "model = neural_network2(d, dh, m, decay_rate, K, n_epoques, learning_rate)"
     ],
     "language": "python",
     "metadata": {},
     "outputs": [],
     "prompt_number": 180
    },
    {
     "cell_type": "code",
     "collapsed": false,
     "input": [
      "print \"On va entrainer sur\", train_set.shape[0], \"exemples d'entrainement \\n\"\n",
      "\n",
      "model.train(train_set, valid_set, test_set, affichage)"
     ],
     "language": "python",
     "metadata": {},
     "outputs": [
      {
       "output_type": "stream",
       "stream": "stdout",
       "text": [
        "On va entrainer sur 50000 exemples d'entrainement \n",
        "\n",
        "\u00c9poque"
       ]
      },
      {
       "output_type": "stream",
       "stream": "stdout",
       "text": [
        " 1 :\n",
        "\n",
        "Ensemble d'entra\u00eenement"
       ]
      },
      {
       "output_type": "stream",
       "stream": "stdout",
       "text": [
        "\n",
        "   Erreur : 6.234 %\n",
        "   Co\u00fbt moyen : 0.212073573632\n",
        "Ensemble de validation\n",
        "   Erreur : 5.83 %\n",
        "   Co\u00fbt moyen : 0.202767090497\n",
        "Ensemble de test\n",
        "   Erreur : 6.1 %\n",
        "   Co\u00fbt moyen : 0.211936183245 \n",
        "\n",
        "\u00c9poque"
       ]
      },
      {
       "output_type": "stream",
       "stream": "stdout",
       "text": [
        " 2 :\n",
        "\n",
        "Ensemble d'entra\u00eenement"
       ]
      },
      {
       "output_type": "stream",
       "stream": "stdout",
       "text": [
        "\n",
        "   Erreur : 4.29 %\n",
        "   Co\u00fbt moyen : 0.146890581659\n",
        "Ensemble de validation\n",
        "   Erreur : 4.13 %\n",
        "   Co\u00fbt moyen : 0.149828767024\n",
        "Ensemble de test\n",
        "   Erreur : 4.72 %\n",
        "   Co\u00fbt moyen : 0.158857616289 \n",
        "\n",
        "\u00c9poque"
       ]
      },
      {
       "output_type": "stream",
       "stream": "stdout",
       "text": [
        " 3 :\n",
        "\n",
        "Ensemble d'entra\u00eenement"
       ]
      },
      {
       "output_type": "stream",
       "stream": "stdout",
       "text": [
        "\n",
        "   Erreur : 3.372 %\n",
        "   Co\u00fbt moyen : 0.11611953443\n",
        "Ensemble de validation\n",
        "   Erreur : 3.54 %\n",
        "   Co\u00fbt moyen : 0.128202147082\n",
        "Ensemble de test\n",
        "   Erreur : 4.02 %\n",
        "   Co\u00fbt moyen : 0.135555487366 \n",
        "\n",
        "\u00c9poque"
       ]
      },
      {
       "output_type": "stream",
       "stream": "stdout",
       "text": [
        " 4 :\n",
        "\n",
        "Ensemble d'entra\u00eenement"
       ]
      },
      {
       "output_type": "stream",
       "stream": "stdout",
       "text": [
        "\n",
        "   Erreur : 2.732 %\n",
        "   Co\u00fbt moyen : 0.0959713438808\n",
        "Ensemble de validation\n",
        "   Erreur : 3.31 %\n",
        "   Co\u00fbt moyen : 0.115972976574\n",
        "Ensemble de test\n",
        "   Erreur : 3.65 %\n",
        "   Co\u00fbt moyen : 0.120287064245 \n",
        "\n",
        "\u00c9poque"
       ]
      },
      {
       "output_type": "stream",
       "stream": "stdout",
       "text": [
        " 5 :\n",
        "\n",
        "Ensemble d'entra\u00eenement"
       ]
      },
      {
       "output_type": "stream",
       "stream": "stdout",
       "text": [
        "\n",
        "   Erreur : 2.358 %\n",
        "   Co\u00fbt moyen : 0.0816978450056\n",
        "Ensemble de validation\n",
        "   Erreur : 3.07 %\n",
        "   Co\u00fbt moyen : 0.108193850388\n",
        "Ensemble de test\n",
        "   Erreur : 3.28 %\n",
        "   Co\u00fbt moyen : 0.109454335894 \n",
        "\n",
        "\u00c9poque"
       ]
      },
      {
       "output_type": "stream",
       "stream": "stdout",
       "text": [
        " 6 :\n",
        "\n",
        "Ensemble d'entra\u00eenement"
       ]
      },
      {
       "output_type": "stream",
       "stream": "stdout",
       "text": [
        "\n",
        "   Erreur : 2.042 %\n",
        "   Co\u00fbt moyen : 0.0711501496872\n",
        "Ensemble de validation\n",
        "   Erreur : 2.94 %\n",
        "   Co\u00fbt moyen : 0.103141082504\n",
        "Ensemble de test\n",
        "   Erreur : 3.1 %\n",
        "   Co\u00fbt moyen : 0.102324662405 \n",
        "\n",
        "\u00c9poque"
       ]
      },
      {
       "output_type": "stream",
       "stream": "stdout",
       "text": [
        " 7 :\n",
        "\n",
        "Ensemble d'entra\u00eenement"
       ]
      },
      {
       "output_type": "stream",
       "stream": "stdout",
       "text": [
        "\n",
        "   Erreur : 1.792 %\n",
        "   Co\u00fbt moyen : 0.062920458779\n",
        "Ensemble de validation\n",
        "   Erreur : 2.92 %\n",
        "   Co\u00fbt moyen : 0.0999799214786\n",
        "Ensemble de test\n",
        "   Erreur : 2.92 %\n",
        "   Co\u00fbt moyen : 0.0979203886523 \n",
        "\n",
        "\u00c9poque"
       ]
      },
      {
       "output_type": "stream",
       "stream": "stdout",
       "text": [
        " 8 :\n",
        "\n",
        "Ensemble d'entra\u00eenement"
       ]
      },
      {
       "output_type": "stream",
       "stream": "stdout",
       "text": [
        "\n",
        "   Erreur : 1.576 %\n",
        "   Co\u00fbt moyen : 0.0563805512334\n",
        "Ensemble de validation\n",
        "   Erreur : 2.92 %\n",
        "   Co\u00fbt moyen : 0.0982747561717\n",
        "Ensemble de test\n",
        "   Erreur : 2.87 %\n",
        "   Co\u00fbt moyen : 0.0955641210281 \n",
        "\n",
        "\u00c9poque"
       ]
      },
      {
       "output_type": "stream",
       "stream": "stdout",
       "text": [
        " 9 :\n",
        "\n",
        "Ensemble d'entra\u00eenement"
       ]
      },
      {
       "output_type": "stream",
       "stream": "stdout",
       "text": [
        "\n",
        "   Erreur : 1.442 %\n",
        "   Co\u00fbt moyen : 0.0510548470343\n",
        "Ensemble de validation\n",
        "   Erreur : 2.85 %\n",
        "   Co\u00fbt moyen : 0.0975586819561\n",
        "Ensemble de test\n",
        "   Erreur : 2.88 %\n",
        "   Co\u00fbt moyen : 0.0946457629817 \n",
        "\n",
        "\u00c9poque"
       ]
      },
      {
       "output_type": "stream",
       "stream": "stdout",
       "text": [
        " 10 :\n",
        "\n",
        "Ensemble d'entra\u00eenement"
       ]
      },
      {
       "output_type": "stream",
       "stream": "stdout",
       "text": [
        "\n",
        "   Erreur : 1.34 %\n",
        "   Co\u00fbt moyen : 0.0466210467797\n",
        "Ensemble de validation\n",
        "   Erreur : 2.87 %\n",
        "   Co\u00fbt moyen : 0.0974745006353\n",
        "Ensemble de test\n",
        "   Erreur : 2.9 %\n",
        "   Co\u00fbt moyen : 0.09464093008 \n",
        "\n"
       ]
      }
     ],
     "prompt_number": 181
    },
    {
     "cell_type": "heading",
     "level": 3,
     "metadata": {},
     "source": [
      "Courbes d'apprentissage"
     ]
    },
    {
     "cell_type": "code",
     "collapsed": false,
     "input": [
      "scores = np.loadtxt(\"train_out.txt\")\n",
      "\n",
      "epoque = np.arange(scores.shape[0]) + 1\n",
      "\n",
      "# Erreur de classification\n",
      "train_err = scores[:,0] * 100\n",
      "valid_err = scores[:,2] * 100\n",
      "test_err = scores[:,4] * 100\n",
      "\n",
      "print \"Erreur de classification (%) en fonction du nb d\\'\u00e9poques\"\n",
      "\n",
      "pylab.plot(epoque, train_err, label='train') \n",
      "pylab.plot(epoque, valid_err, label='valid') \n",
      "pylab.plot(epoque, test_err, label='test')\n",
      "pylab.legend()\n",
      "pylab.show()\n",
      "\n",
      "# Perte moyenne\n",
      "train_perte = scores[:,1]\n",
      "valid_perte = scores[:,3]\n",
      "test_perte = scores[:,5]\n",
      "\n",
      "print \"Perte moyenne en fonction du nb d\\'\u00e9poques\"\n",
      "\n",
      "pylab.plot(epoque, train_perte, label='train') \n",
      "pylab.plot(epoque, valid_perte, label='valid') \n",
      "pylab.plot(epoque, test_perte, label='test')\n",
      "pylab.legend()\n",
      "pylab.show()"
     ],
     "language": "python",
     "metadata": {},
     "outputs": [
      {
       "output_type": "stream",
       "stream": "stdout",
       "text": [
        "Erreur de classification (%) en fonction du nb d'\u00e9poques\n"
       ]
      },
      {
       "metadata": {},
       "output_type": "display_data",
       "png": "[encoded data removed]",
       "text": [
        "<matplotlib.figure.Figure at 0x104f9ab90>"
       ]
      },
      {
       "output_type": "stream",
       "stream": "stdout",
       "text": [
        "Perte moyenne en fonction du nb d'\u00e9poques\n"
       ]
      },
      {
       "metadata": {},
       "output_type": "display_data",
       "png": "[encoded data removed]",
       "text": [
        "<matplotlib.figure.Figure at 0x104aa0550>"
       ]
      }
     ],
     "prompt_number": 182
    }
   ],
   "metadata": {}
  }
 ]
}